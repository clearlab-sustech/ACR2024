{
 "cells": [
  {
   "cell_type": "markdown",
   "metadata": {},
   "source": [
    "# Introduction to neural network"
   ]
  },
  {
   "cell_type": "markdown",
   "metadata": {},
   "source": [
    "# A commonly used neural network structure: Multi-layer Perceptron (MLP)\n",
    "A multi-layer perceptron (MLP) is a network work structure that consists of linear layer (full connect layer) and activation functions. Its mathematical function can be seen as:\n",
    " \n",
    "$y = W_{n+1}(g_n(W_n(⋯g_0(W_0(x)+b_0)⋯)+b_n))+b_{n+1}$, \n",
    "\n",
    "where $n$ is the number of the hidden layer, and $W_n$ and $b_n$ denotes the parameters of a linear function.\n",
    "\n",
    "The pseudocode for an MLP of $n$ hidden layers is show in below:\n",
    "```Python\n",
    "def pseudocode_for_mlp(x):\n",
    "    z = linear_layer_1(x)\n",
    "    z = activation_1(z)\n",
    "    z = linear_layer_2(z)\n",
    "    ...\n",
    "    z = activation_n(z)\n",
    "    out = linear_layer_n_plus_1(z)\n",
    "    return out\n",
    "```\n"
   ]
  },
  {
   "cell_type": "markdown",
   "metadata": {},
   "source": [
    "### Simple MLP in PyTorch\n",
    "The simplest MLP contains only one hidden layer, with the form of $y = W_{2}(g_1(W_1(x)+b_1))+b_{2}$, where $x$ is the input data. \n",
    "\n",
    "In this part, we learn how to write a simple MLP using PyTorch, and manually calculate the MLP for a better understanding of the simple MLP."
   ]
  },
  {
   "cell_type": "code",
   "execution_count": 39,
   "metadata": {},
   "outputs": [],
   "source": [
    "# import necessary packages\n",
    "import torch\n",
    "import torch.nn as nn"
   ]
  },
  {
   "cell_type": "markdown",
   "metadata": {},
   "source": [
    "The following code implemented a simple MLP using PyTorch. Here we use ReLu as the activation function. You can also choose Sigmoid or any other type of activations functions as you like."
   ]
  },
  {
   "cell_type": "code",
   "execution_count": 46,
   "metadata": {},
   "outputs": [],
   "source": [
    "class SimpleMLP(nn.Module):\n",
    "    def __init__(self, input_size, hidden_size, output_size):\n",
    "        super().__init__()\n",
    "        self.fc1 = nn.Linear(input_size, hidden_size)\n",
    "        self.activation = nn.ReLU() # nn.Sigmoid(), nn.Tanh(), nn.LeakyReLU()\n",
    "        self.fc2 = nn.Linear(hidden_size, output_size)\n",
    "\n",
    "    def forward(self, x):\n",
    "        out = self.fc1(x)\n",
    "        out = self.activation(out)\n",
    "        out = self.fc2(out)\n",
    "        return out\n",
    "    \n",
    "    def get_linear_layer_parameters(self):\n",
    "        W1 = self.fc1.weight \n",
    "        b1 = self.fc1.bias\n",
    "        W2 = self.fc2.weight \n",
    "        b2 = self.fc2.bias\n",
    "        return [W1, b1, W2, b2]"
   ]
  },
  {
   "cell_type": "markdown",
   "metadata": {},
   "source": [
    "Instantiate our simple MLP with input size of 3, hidden size of 4, and output size of 2."
   ]
  },
  {
   "cell_type": "code",
   "execution_count": 47,
   "metadata": {},
   "outputs": [],
   "source": [
    "torch_mlp = SimpleMLP(input_size=3,hidden_size=4,output_size=2)"
   ]
  },
  {
   "cell_type": "markdown",
   "metadata": {},
   "source": [
    "Create the input data and get the output of MLP.\n",
    "\n",
    "Suppose we have a data $x$ of two 3D points: $x = [[-1,1,2], [2,-1,0]]$. "
   ]
  },
  {
   "cell_type": "code",
   "execution_count": 48,
   "metadata": {},
   "outputs": [
    {
     "name": "stdout",
     "output_type": "stream",
     "text": [
      "Output of Simple MLP (Torch): tensor([[-1.2678,  0.7484],\n",
      "        [-0.2846,  0.4001]], grad_fn=<AddmmBackward>)\n"
     ]
    }
   ],
   "source": [
    "x = torch.tensor([[-1.,1.,2.],[2.,-1.,0.]])\n",
    "y = torch_mlp(x) \n",
    "print(\"Output of Simple MLP (Torch):\", y)"
   ]
  },
  {
   "cell_type": "markdown",
   "metadata": {},
   "source": [
    " ### Check if the simple MLP (PyTorch) works as we expected.\n",
    "\n",
    "#### step 1: write a simple MLP by ourselves. \n",
    "*Note that the Linear Layer in PyTorch is implemented as $y=xW^T+b$, so we implemented in this way to better compare it with the pytorch version."
   ]
  },
  {
   "cell_type": "code",
   "execution_count": 49,
   "metadata": {},
   "outputs": [],
   "source": [
    "\n",
    "def manual_mlp(x, W1, b1, W2, b2):\n",
    "    \"\"\"Calculate the output of simple MLP by ourselves.\n",
    "    \"\"\"\n",
    "    z = torch.matmul(x, W1.transpose(-1,-2)) + b1\n",
    "    print(\"The output after first linear layer:\", z)\n",
    "    z = torch.max(torch.tensor(0.0), z)\n",
    "    print(\"The output after the activation layer:\", z)\n",
    "    out = torch.matmul(z, W2.transpose(-1,-2)) + b2\n",
    "    print(\"The output after first linear layer:\", out)\n",
    "    return out\n"
   ]
  },
  {
   "cell_type": "markdown",
   "metadata": {},
   "source": [
    "Now we get the weights and bias of the PyTorch MLP, feed them to our manual MLP, and check the outputs."
   ]
  },
  {
   "cell_type": "code",
   "execution_count": 55,
   "metadata": {},
   "outputs": [
    {
     "name": "stdout",
     "output_type": "stream",
     "text": [
      "The output after first linear layer: tensor([[-0.0602,  1.0786,  0.9678,  1.9992],\n",
      "        [-0.1088, -0.3804,  0.5789, -0.5356]], grad_fn=<AddBackward0>)\n",
      "The output after the activation layer: tensor([[0.0000, 1.0786, 0.9678, 1.9992],\n",
      "        [0.0000, 0.0000, 0.5789, 0.0000]], grad_fn=<MaxBackward2>)\n",
      "The output after first linear layer: tensor([[-1.2678,  0.7484],\n",
      "        [-0.2846,  0.4001]], grad_fn=<AddBackward0>)\n",
      "The output of our manual MLP is tensor([[-1.2678,  0.7484],\n",
      "        [-0.2846,  0.4001]], grad_fn=<AddBackward0>)\n"
     ]
    }
   ],
   "source": [
    "W1, b1, W2, b2 = torch_mlp.get_linear_layer_parameters()\n",
    "our_y = manual_mlp(x, W1, b1, W2, b2)\n",
    "print(\"The output of our manual MLP is\", our_y)"
   ]
  },
  {
   "cell_type": "markdown",
   "metadata": {},
   "source": [
    "step 2: Check the output of each layer in PyTorch MLP is the same as our manual MLP."
   ]
  },
  {
   "cell_type": "code",
   "execution_count": 56,
   "metadata": {},
   "outputs": [
    {
     "name": "stdout",
     "output_type": "stream",
     "text": [
      "The output of PyTorch MLP is tensor([[-1.2678,  0.7484],\n",
      "        [-0.2846,  0.4001]], grad_fn=<AddmmBackward>)\n"
     ]
    }
   ],
   "source": [
    "torch_y = torch_mlp(x)\n",
    "print(\"The output of PyTorch MLP is\", torch_y)"
   ]
  },
  {
   "cell_type": "markdown",
   "metadata": {},
   "source": [
    "# Commonly used losses"
   ]
  },
  {
   "cell_type": "markdown",
   "metadata": {},
   "source": [
    "1) Mean Squared Error (MSE) / L2 Loss"
   ]
  },
  {
   "cell_type": "code",
   "execution_count": 60,
   "metadata": {},
   "outputs": [
    {
     "name": "stdout",
     "output_type": "stream",
     "text": [
      "Mean Squared Error (MSE) Loss: 0.125\n"
     ]
    }
   ],
   "source": [
    "import torch.nn as nn\n",
    "mse_loss = nn.MSELoss()\n",
    "y_hat = torch.tensor([1.5, 1.0])\n",
    "y = torch.tensor([1.0, 1.0]) \n",
    "loss = mse_loss(y_hat, y)\n",
    "print(\"Mean Squared Error (MSE) Loss:\", loss.item())"
   ]
  },
  {
   "cell_type": "markdown",
   "metadata": {},
   "source": [
    "2) Mean Absolute Error (MAE) / L1 Loss"
   ]
  },
  {
   "cell_type": "code",
   "execution_count": 61,
   "metadata": {},
   "outputs": [
    {
     "name": "stdout",
     "output_type": "stream",
     "text": [
      "L1 Loss: 0.25\n"
     ]
    }
   ],
   "source": [
    "l1_loss = nn.L1Loss()\n",
    "y_hat = torch.tensor([1.5, 1.0])\n",
    "y = torch.tensor([1.0, 1.0]) \n",
    "loss = l1_loss(y_hat, y)\n",
    "print(\"L1 Loss:\", loss.item())"
   ]
  },
  {
   "cell_type": "markdown",
   "metadata": {},
   "source": [
    "3) KL divergence"
   ]
  },
  {
   "cell_type": "markdown",
   "metadata": {},
   "source": [
    "Manually calculate KL divergence loss"
   ]
  },
  {
   "cell_type": "code",
   "execution_count": 153,
   "metadata": {},
   "outputs": [
    {
     "name": "stdout",
     "output_type": "stream",
     "text": [
      "KL Divergence (Manual Calculation): 0.022582421084357485\n"
     ]
    }
   ],
   "source": [
    "import numpy as np\n",
    "\n",
    "# True distribution (target)\n",
    "P = np.array([0.4, 0.6])\n",
    "\n",
    "# Predicted distribution (model output)\n",
    "Q = np.array([0.3, 0.7])\n",
    "\n",
    "# Calculate KL Divergence manually\n",
    "kl_divergence = np.sum(P * np.log(P / Q))\n",
    "\n",
    "print(\"KL Divergence (Manual Calculation):\", kl_divergence)"
   ]
  },
  {
   "cell_type": "markdown",
   "metadata": {},
   "source": [
    "Calculate KL Divergence Loss using PyTorch"
   ]
  },
  {
   "cell_type": "code",
   "execution_count": 154,
   "metadata": {},
   "outputs": [
    {
     "name": "stdout",
     "output_type": "stream",
     "text": [
      "KL Divergence (PyTorch with nn.KLDivLoss): 0.02258247882127762\n"
     ]
    }
   ],
   "source": [
    "# True distribution (target)\n",
    "P_torch = torch.tensor([0.4, 0.6]).unsqueeze(0)\n",
    "\n",
    "# Predicted distribution (model output)\n",
    "Q_torch = torch.tensor([0.3, 0.7]).unsqueeze(0)\n",
    "\n",
    "# Calculate KL Divergence in PyTorch\n",
    "kl_loss = nn.KLDivLoss(reduction='batchmean')  \n",
    "loss = kl_loss(Q_torch.log(), P_torch)\n",
    "\n",
    "print(\"KL Divergence (PyTorch with nn.KLDivLoss):\", loss.item())"
   ]
  },
  {
   "cell_type": "markdown",
   "metadata": {},
   "source": [
    "4) Cross-entropy Loss"
   ]
  },
  {
   "cell_type": "markdown",
   "metadata": {},
   "source": [
    "Manually calculate the cross-entropy loss"
   ]
  },
  {
   "cell_type": "code",
   "execution_count": 35,
   "metadata": {},
   "outputs": [
    {
     "name": "stdout",
     "output_type": "stream",
     "text": [
      "Manual Cross-Entropy Loss: 0.4170300162778335\n"
     ]
    }
   ],
   "source": [
    "# Step 1: Calculate softmax to get predicted probabilities\n",
    "def softmax(logits):\n",
    "    exp_logits = np.exp(logits - np.max(logits, axis=1, keepdims=True))  # Subtract max for numerical stability\n",
    "    return exp_logits / np.sum(exp_logits, axis=1, keepdims=True)\n",
    "\n",
    "# Step 2: Calculate cross-entropy loss\n",
    "def cross_entropy_loss(probs, true_labels):\n",
    "    N = probs.shape[0]\n",
    "    log_probs = -np.log(probs[range(N), true_labels])  # Get log of the predicted prob for the correct class\n",
    "    return np.mean(log_probs)\n",
    "\n",
    "# Example: raw model output (logits) for a batch of 2 examples and 3 classes\n",
    "raw_prediction = np.array([[2.0, 1.0, 0.1], [0.1, 2.0, 1.0]])\n",
    "# True labels (index of the correct class for each example)\n",
    "true_labels = np.array([0, 1])\n",
    "# Get predicted probabilities using softmax\n",
    "predicted_probs = softmax(raw_prediction)\n",
    "# Calculate the manual cross-entropy loss\n",
    "loss = cross_entropy_loss(predicted_probs, true_labels)\n",
    "print(f\"Manual Cross-Entropy Loss: {loss}\")"
   ]
  },
  {
   "cell_type": "markdown",
   "metadata": {},
   "source": [
    "Calculate cross-entropy loss in PyTorch"
   ]
  },
  {
   "cell_type": "code",
   "execution_count": 36,
   "metadata": {},
   "outputs": [
    {
     "name": "stdout",
     "output_type": "stream",
     "text": [
      "Cross-Entropy Loss: 0.41702985763549805\n"
     ]
    }
   ],
   "source": [
    "loss_fn = nn.CrossEntropyLoss()\n",
    "# Suppose we have 3 classes and 2 examples in the batch\n",
    "predictions = torch.tensor([[2.0, 1.0, 0.1], [0.1, 2.0, 1.0]])  # logits (raw model output)\n",
    "labels = torch.tensor([0, 1])  # true labels\n",
    "\n",
    "loss = loss_fn(predictions, labels)\n",
    "print(f\"Cross-Entropy Loss: {loss.item()}\")"
   ]
  },
  {
   "cell_type": "markdown",
   "metadata": {},
   "source": [
    "# Construct a neural network in PyTorch for training"
   ]
  },
  {
   "cell_type": "markdown",
   "metadata": {},
   "source": [
    "Import necessary python packages"
   ]
  },
  {
   "cell_type": "code",
   "execution_count": 16,
   "metadata": {},
   "outputs": [],
   "source": [
    "import torch.optim as optim\n",
    "from torchvision import datasets, transforms\n",
    "from torch.utils.data import DataLoader"
   ]
  },
  {
   "cell_type": "markdown",
   "metadata": {},
   "source": [
    "Step 1: prepare the dataset."
   ]
  },
  {
   "cell_type": "code",
   "execution_count": 21,
   "metadata": {},
   "outputs": [
    {
     "name": "stdout",
     "output_type": "stream",
     "text": [
      "Using downloaded and verified file: ./data/MNIST/raw/train-images-idx3-ubyte.gz\n",
      "Extracting ./data/MNIST/raw/train-images-idx3-ubyte.gz\n",
      "Using downloaded and verified file: ./data/MNIST/raw/train-labels-idx1-ubyte.gz\n",
      "Extracting ./data/MNIST/raw/train-labels-idx1-ubyte.gz\n",
      "Using downloaded and verified file: ./data/MNIST/raw/t10k-images-idx3-ubyte.gz\n",
      "Extracting ./data/MNIST/raw/t10k-images-idx3-ubyte.gz\n",
      "Using downloaded and verified file: ./data/MNIST/raw/t10k-labels-idx1-ubyte.gz\n",
      "Extracting ./data/MNIST/raw/t10k-labels-idx1-ubyte.gz\n",
      "Processing...\n",
      "Done!\n"
     ]
    }
   ],
   "source": [
    "# Load the MNIST dataset\n",
    "transform = transforms.Compose([\n",
    "    transforms.ToTensor(),\n",
    "    transforms.Normalize((0.5,), (0.5,))\n",
    "])\n",
    "train_dataset = datasets.MNIST(root='./data', train=True, download=True, transform=transform)\n",
    "train_loader = DataLoader(train_dataset, batch_size=64, shuffle=True)\n",
    "\n",
    "test_dataset = datasets.MNIST(root='./data', train=False, download=True, transform=transform)\n",
    "test_loader = DataLoader(test_dataset, batch_size=1000, shuffle=False)"
   ]
  },
  {
   "cell_type": "code",
   "execution_count": 27,
   "metadata": {},
   "outputs": [
    {
     "data": {
      "image/png": "[encoded data removed]",
      "text/plain": [
       "<Figure size 576x576 with 64 Axes>"
      ]
     },
     "metadata": {
      "needs_background": "light"
     },
     "output_type": "display_data"
    }
   ],
   "source": [
    "import matplotlib.pyplot as plt\n",
    "# Ensure inline plotting in the notebook\n",
    "%matplotlib inline\n",
    "# Function to show images\n",
    "def show_images(images, labels):\n",
    "    # Create a grid of 8x8 images\n",
    "    fig, axes = plt.subplots(8, 8, figsize=(8, 8))\n",
    "    axes = axes.flatten()\n",
    "    \n",
    "    # Loop through each image and display it\n",
    "    for img, ax, label in zip(images, axes, labels):\n",
    "        img = img.numpy().squeeze()  # Convert to numpy and remove unnecessary dimensions\n",
    "        ax.imshow(img, cmap='gray')\n",
    "        ax.set_title(f'Label: {label}')\n",
    "        ax.axis('off')\n",
    "    \n",
    "    plt.tight_layout()\n",
    "    plt.show()\n",
    "\n",
    "# Get a batch of images and labels\n",
    "data_iter = iter(train_loader)\n",
    "images, labels = data_iter.next()\n",
    "\n",
    "# Show the first 64 images and labels\n",
    "show_images(images[:64], labels[:64])"
   ]
  },
  {
   "cell_type": "markdown",
   "metadata": {},
   "source": [
    "Step 2: Define and initialize the model, loss function, and optimizer."
   ]
  },
  {
   "cell_type": "code",
   "execution_count": 22,
   "metadata": {},
   "outputs": [],
   "source": [
    "# Define the MLP model\n",
    "class SimpleMLP(nn.Module):\n",
    "    def __init__(self):\n",
    "        super(SimpleMLP, self).__init__()\n",
    "        self.fc1 = nn.Linear(28*28, 128)  # First hidden layer\n",
    "        self.fc2 = nn.Linear(128, 64)     # Second hidden layer\n",
    "        self.fc3 = nn.Linear(64, 10)      # Output layer for 10 classes\n",
    "\n",
    "    def forward(self, x):\n",
    "        x = x.view(-1, 28*28)  # Flatten the input\n",
    "        x = torch.relu(self.fc1(x))  # Activation function\n",
    "        x = torch.relu(self.fc2(x))  # Activation function\n",
    "        x = self.fc3(x)  # Output layer\n",
    "        return x\n",
    "\n",
    "# Initialize the model, loss function, and optimizer\n",
    "model = SimpleMLP()\n",
    "criterion = nn.CrossEntropyLoss()  # Loss function\n",
    "optimizer = optim.SGD(model.parameters(), lr=0.01)  # Optimizer"
   ]
  },
  {
   "cell_type": "markdown",
   "metadata": {},
   "source": [
    "Step 3: train the model"
   ]
  },
  {
   "cell_type": "code",
   "execution_count": 23,
   "metadata": {},
   "outputs": [
    {
     "name": "stdout",
     "output_type": "stream",
     "text": [
      "Epoch 1, Loss: 1.0546570096506493\n",
      "Epoch 2, Loss: 0.38928529353284125\n",
      "Epoch 3, Loss: 0.32860240993151535\n",
      "Epoch 4, Loss: 0.2933268640706661\n",
      "Epoch 5, Loss: 0.2666934971918048\n"
     ]
    }
   ],
   "source": [
    "# Training the model\n",
    "def train(model, train_loader, criterion, optimizer, epochs=1):\n",
    "    model.train()\n",
    "    for epoch in range(epochs):\n",
    "        running_loss = 0.0\n",
    "        for images, labels in train_loader:\n",
    "            optimizer.zero_grad()  # Zero the gradients\n",
    "            outputs = model(images)  # Forward pass\n",
    "            loss = criterion(outputs, labels)  # Compute loss\n",
    "            loss.backward()  # Backward pass\n",
    "            optimizer.step()  # Update weights\n",
    "            running_loss += loss.item()\n",
    "        print(f'Epoch {epoch+1}, Loss: {running_loss/len(train_loader)}')\n",
    "        \n",
    "train(model, train_loader, criterion, optimizer, epochs=5)"
   ]
  },
  {
   "cell_type": "markdown",
   "metadata": {},
   "source": [
    "Step 4: test the model"
   ]
  },
  {
   "cell_type": "code",
   "execution_count": 38,
   "metadata": {},
   "outputs": [
    {
     "name": "stdout",
     "output_type": "stream",
     "text": [
      "Accuracy: 92.71%\n"
     ]
    },
    {
     "data": {
      "image/png": "[encoded data removed]",
      "text/plain": [
       "<Figure size 576x576 with 64 Axes>"
      ]
     },
     "metadata": {
      "needs_background": "light"
     },
     "output_type": "display_data"
    }
   ],
   "source": [
    "# Test the model\n",
    "def test(model, test_loader):\n",
    "    model.eval()\n",
    "    correct = 0\n",
    "    total = 0\n",
    "    with torch.no_grad():\n",
    "        for images, labels in test_loader:\n",
    "            outputs = model(images)\n",
    "            _, predicted = torch.max(outputs.data, dim=1)\n",
    "            total += labels.size(0)\n",
    "            correct += (predicted == labels).sum().item()\n",
    "    print(f'Accuracy: {100 * correct / total}%')\n",
    "    show_images(images[:64], predicted[:64])\n",
    "test(model, test_loader)\n"
   ]
  }
 ],
 "metadata": {
  "kernelspec": {
   "display_name": "seq2seq",
   "language": "python",
   "name": "python3"
  },
  "language_info": {
   "codemirror_mode": {
    "name": "ipython",
    "version": 3
   },
   "file_extension": ".py",
   "mimetype": "text/x-python",
   "name": "python",
   "nbconvert_exporter": "python",
   "pygments_lexer": "ipython3",
   "version": "3.7.3"
  }
 },
 "nbformat": 4,
 "nbformat_minor": 2
}
